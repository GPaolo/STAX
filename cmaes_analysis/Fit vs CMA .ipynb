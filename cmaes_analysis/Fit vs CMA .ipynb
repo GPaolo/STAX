{
 "cells": [
  {
   "cell_type": "code",
   "execution_count": 1,
   "metadata": {},
   "outputs": [
    {
     "name": "stdout",
     "output_type": "stream",
     "text": [
      "Root directory /home/giuseppe/src/cmans\n"
     ]
    }
   ],
   "source": [
    "# Set root folder\n",
    "import sys\n",
    "import os\n",
    "\n",
    "cwd = os.getcwd()\n",
    "folder = os.path.basename(cwd)\n",
    "cwd = os.path.dirname(cwd)\n",
    "folder = os.path.basename(cwd)\n",
    "cwd = os.path.dirname(cwd)\n",
    "folder = os.path.basename(cwd)\n",
    "ROOT = os.path.join(cwd)\n",
    "\n",
    "sys.path.append(ROOT)\n",
    "\n",
    "import numpy as np\n",
    "from core.population import Archive, Population\n",
    "from environments.environments import *\n",
    "from parameters import params\n",
    "import matplotlib\n",
    "import pickle as pkl\n",
    "import analysis.utils as utils\n",
    "import matplotlib.pyplot as plt\n",
    "from mpl_toolkits.axes_grid1 import make_axes_locatable\n",
    "import json\n",
    "%matplotlib inline"
   ]
  },
  {
   "cell_type": "code",
   "execution_count": 2,
   "metadata": {},
   "outputs": [],
   "source": [
    "cmaes_data_path = os.path.join(os.getcwd(), 'data/cmaes')\n",
    "fit_data_path = os.path.join(os.getcwd(), 'data/fit')\n",
    "areas = [0, 1, 2, 3]"
   ]
  },
  {
   "cell_type": "markdown",
   "metadata": {},
   "source": [
    "# Plot max reward by eval"
   ]
  },
  {
   "cell_type": "code",
   "execution_count": 3,
   "metadata": {},
   "outputs": [],
   "source": [
    "cmaes_data = {area: {'evaluated': [], 'reward': []} for area in areas}\n",
    "fit_data = {area: {'evaluated': [], 'reward': []} for area in areas}\n",
    "\n",
    "for area in areas:\n",
    "    pop = Population(params)\n",
    "    # CMAES\n",
    "    area_path = os.path.join(cmaes_data_path, str(area))\n",
    "    generation = 0   \n",
    "    while os.path.exists(os.path.join(area_path, 'population_gen_{}.pkl'.format(generation))):\n",
    "        pop.load(os.path.join(area_path, 'population_gen_{}.pkl'.format(generation)))\n",
    "        for ev, r in zip(pop['evaluated'], pop['reward']):\n",
    "            cmaes_data[area]['evaluated'].append(ev)\n",
    "            cmaes_data[area]['reward'].append(r)\n",
    "        generation += 1\n",
    "        \n",
    "    # Fit\n",
    "    area_path = os.path.join(fit_data_path, str(area))\n",
    "    generation = 0\n",
    "    while os.path.exists(os.path.join(area_path, 'population_gen_{}.pkl'.format(generation))):\n",
    "        pop.load(os.path.join(area_path, 'population_gen_{}.pkl'.format(generation)))\n",
    "        for ev, r in zip(pop['evaluated'], pop['reward']):\n",
    "            if ev not in fit_data[area]['evaluated']:\n",
    "                fit_data[area]['evaluated'].append(ev)\n",
    "                fit_data[area]['reward'].append(r)        \n",
    "        generation += 1\n",
    "            \n",
    "    data = np.array([[ev, r] for ev, r in sorted(zip(fit_data[area]['evaluated'], fit_data[area]['reward']), key=lambda pair: pair[0])])\n",
    "    fit_data[area]['evaluated'] = data[:, 0]\n",
    "    fit_data[area]['reward'] = data[:, 1]       "
   ]
  },
  {
   "cell_type": "code",
   "execution_count": 21,
   "metadata": {},
   "outputs": [
    {
     "data": {
      "image/png": "[encoded data removed]",
      "text/plain": [
       "<Figure size 1440x360 with 4 Axes>"
      ]
     },
     "metadata": {
      "needs_background": "light"
     },
     "output_type": "display_data"
    }
   ],
   "source": [
    "fig, axes = plt.subplots(1, len(areas), figsize=(len(areas)*5, 5))\n",
    "for area in areas:\n",
    "    axes[area].scatter(cmaes_data[area]['evaluated'], cmaes_data[area]['reward'])\n",
    "    axes[area].scatter(fit_data[area]['evaluated'], fit_data[area]['reward'])"
   ]
  },
  {
   "cell_type": "code",
   "execution_count": null,
   "metadata": {},
   "outputs": [],
   "source": []
  }
 ],
 "metadata": {
  "kernelspec": {
   "display_name": "Python 3",
   "language": "python",
   "name": "python3"
  },
  "language_info": {
   "codemirror_mode": {
    "name": "ipython",
    "version": 3
   },
   "file_extension": ".py",
   "mimetype": "text/x-python",
   "name": "python",
   "nbconvert_exporter": "python",
   "pygments_lexer": "ipython3",
   "version": "3.7.7"
  }
 },
 "nbformat": 4,
 "nbformat_minor": 4
}
