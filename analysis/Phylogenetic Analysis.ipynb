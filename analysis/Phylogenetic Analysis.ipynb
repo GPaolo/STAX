{
 "cells": [
  {
   "cell_type": "markdown",
   "metadata": {},
   "source": [
    "# Phylogenetic Analysis"
   ]
  },
  {
   "cell_type": "code",
   "execution_count": 1,
   "metadata": {},
   "outputs": [
    {
     "name": "stdout",
     "output_type": "stream",
     "text": [
      "Root directory /home/giuseppe/src/cmans\n"
     ]
    }
   ],
   "source": [
    "import numpy as np\n",
    "import pickle as pkl\n",
    "import os, sys\n",
    "import gzip\n",
    "cwd = os.getcwd()\n",
    "folder = os.path.basename(cwd)\n",
    "cwd = os.path.dirname(cwd)\n",
    "folder = os.path.basename(cwd)\n",
    "ROOT = os.path.join(cwd)\n",
    "\n",
    "sys.path.append(ROOT)\n",
    "\n",
    "from analysis import utils\n",
    "from core.population import Archive\n",
    "from parameters import params\n",
    "from environments.environments import *\n",
    "import matplotlib.pyplot as plt"
   ]
  },
  {
   "cell_type": "markdown",
   "metadata": {},
   "source": [
    "## Load Data"
   ]
  },
  {
   "cell_type": "code",
   "execution_count": 2,
   "metadata": {},
   "outputs": [],
   "source": [
    "env_type = 'RW'\n",
    "\n",
    "if env_type == 'RW':\n",
    "    env = 'Walker2D'\n",
    "elif env_type == 'Dummy':\n",
    "    env = 'Dummy'\n",
    "elif env_type == 'CB':\n",
    "    env = 'CollectBall'\n",
    "elif env_type == 'AM':\n",
    "    env = 'AntMaze'\n",
    "elif env_type == 'arm':\n",
    "    env = 'NDofArm'\n",
    "else:\n",
    "    raise ValueError('Wrong environment type given: {}'.format(env_type))\n",
    "\n",
    "EXP_ROOT = '/mnt/7e0bad1b-406b-4582-b7a1-84327ae60fc4/cmans/'\n",
    "    \n",
    "exp_path = os.path.join(ROOT, 'experiment_data')\n",
    "# exp_path = EXP_ROOT\n",
    "exp_types = ['NS']#, 'NSGA-II', 'CMA-NS', 'CMA-NS_prob']\n",
    "paths = []\n",
    "\n",
    "avail_exps = []\n",
    "for exp_type in exp_types:\n",
    "#     path = os.path.join(exp_path, \"{}/{}_{}\".format(env, env, exp_type))\n",
    "    path = os.path.join(exp_path, \"{}_{}\".format(env, exp_type))\n",
    "\n",
    "    if not os.path.exists(path):\n",
    "        path = None\n",
    "        print(\"No {} experiment for {} env.\".format(exp_type, env))\n",
    "        continue\n",
    "    paths.append(path)\n",
    "    avail_exps.append(exp_type)\n",
    "exp_types = avail_exps"
   ]
  },
  {
   "cell_type": "code",
   "execution_count": 20,
   "metadata": {},
   "outputs": [],
   "source": [
    "trees = {}\n",
    "expl_archives = {}\n",
    "rew_archives = {}\n",
    "for exp, path in zip(exp_types, paths):\n",
    "    runs = utils.get_runs_list(path)\n",
    "    run_tree = []\n",
    "    run_expl_archives = []\n",
    "    run_rew_archives = []\n",
    "    \n",
    "    for run in runs:\n",
    "        tree_path = os.path.join(path, run, 'analyzed_data/phyl_tree.pkl')\n",
    "        \n",
    "        if os.path.exists(tree_path):\n",
    "            with gzip.open(tree_path) as f: \n",
    "                data = pkl.load(f)    \n",
    "            run_tree.append(data)\n",
    "            \n",
    "        else:\n",
    "            print(\"{} does not exists.\".format(tree_path))\n",
    "        if len(run_tree) != 0:\n",
    "            trees[exp] = run_tree\n",
    "        \n",
    "        exp_archive_path = os.path.join(path, run, 'archive_final.pkl')\n",
    "        if exp == 'CMA-NS':\n",
    "            rew_archive_path = os.path.join(path, run, 'rew_archive_final.pkl')\n",
    "        else: rew_archive_path = exp_archive_path\n",
    "\n",
    "        \n",
    "        if os.path.exists(exp_archive_path):\n",
    "            archive = Archive(params)\n",
    "            archive.load(exp_archive_path)\n",
    "            run_expl_archives.append(archive)\n",
    "        else:\n",
    "            print(\"{} does not exists.\".format(exp_archive_path))\n",
    "        \n",
    "        if not rew_archive_path == exp_archive_path:\n",
    "            if os.path.exists(rew_archive_path):\n",
    "                archive = Archive(params)\n",
    "                archive.load(rew_archive_path)\n",
    "                run_rew_archives.append(archive)\n",
    "            else:\n",
    "                print(\"{} does not exists.\".format(rew_archive_path))\n",
    "            \n",
    "    \n",
    "    expl_archives[exp] = run_expl_archives\n",
    "    if not rew_archive_path == exp_archive_path:\n",
    "        rew_archives[exp] = run_rew_archives\n",
    "    else:\n",
    "        rew_archives = expl_archives"
   ]
  },
  {
   "cell_type": "code",
   "execution_count": 21,
   "metadata": {},
   "outputs": [],
   "source": [
    "grid_parameters = registered_envs[env]['grid']\n",
    "best_run = {}\n",
    "for exp in exp_types:\n",
    "    best_run[exp] = 0\n",
    "exp_types = list(trees.keys())"
   ]
  },
  {
   "cell_type": "markdown",
   "metadata": {},
   "source": [
    "## Plot number of rewarding lineages by generation"
   ]
  },
  {
   "cell_type": "code",
   "execution_count": 26,
   "metadata": {},
   "outputs": [],
   "source": [
    "for exp in archives:\n",
    "    for arch in archives[exp]:\n",
    "        exploring_ancestors = np.stack(arch['ancestor'])\n",
    "#         unique, counts = np.unique(exploring_ancestors, return_counts=True)\n",
    "#         exploring_ancestors = dict(zip(unique, counts))\n",
    "        \n",
    "        anc_idx = params.archive_stored_info.index('ancestor')\n",
    "        rew_idx = params.archive_stored_info.index('reward')\n",
    "        rewarding_ancestors = np.stack([agent[anc_idx] for agent in arch if agent[rew_idx]>0])\n",
    "#         unique, counts = np.unique(rewarding_ancestors, return_counts=True)\n",
    "#         rewarding_ancestors = dict(zip(unique, counts))\n",
    "         \n",
    "    "
   ]
  },
  {
   "cell_type": "code",
   "execution_count": 51,
   "metadata": {},
   "outputs": [
    {
     "data": {
      "image/png": "[encoded data removed]",
      "text/plain": [
       "<Figure size 2160x360 with 1 Axes>"
      ]
     },
     "metadata": {
      "needs_background": "light"
     },
     "output_type": "display_data"
    }
   ],
   "source": [
    "fig, axes = plt.subplots(1, 1, figsize=(30, 5))\n",
    "\n",
    "axes = [axes]\n",
    "axes[0].hist(exploring_ancestors, bins=range(params.pop_size))\n",
    "axes[0].set_xlim(0, params.pop_size)\n",
    "axes[0].set_title('Exploring')\n",
    "\n",
    "axes[0].hist(rewarding_ancestors, bins=range(params.pop_size))\n",
    "axes[0].set_xlim(0, params.pop_size)\n",
    "axes[0].set_title('Rewarding')\n",
    "plt.xticks(range(0, params.pop_size, 2));\n",
    "plt.rc('xtick', labelsize=18) \n",
    "plt.rc('ytick', labelsize=18)\n"
   ]
  },
  {
   "cell_type": "code",
   "execution_count": 28,
   "metadata": {},
   "outputs": [
    {
     "data": {
      "text/plain": [
       "array([43, 61, 43, 17, 61, 89])"
      ]
     },
     "execution_count": 28,
     "metadata": {},
     "output_type": "execute_result"
    }
   ],
   "source": [
    "rewarding_ancestors"
   ]
  },
  {
   "cell_type": "code",
   "execution_count": 29,
   "metadata": {},
   "outputs": [
    {
     "data": {
      "text/plain": [
       "array([32, 48, 77,  7, 26, 33, 99, 80, 85, 71, 60,  8, 80,  6, 26, 67, 72,\n",
       "       58, 54, 67, 61, 29, 84, 43, 85,  6, 33, 65, 71, 23, 43, 84, 38, 43,\n",
       "       65, 61, 54, 84, 85, 61, 89, 89, 84, 80, 65, 89, 89, 67, 71, 67, 61,\n",
       "       61, 85, 17, 61, 43, 17, 61, 61, 43, 17, 71, 80, 61, 80, 43, 61, 61,\n",
       "       61, 61, 56, 61, 43, 61, 58, 58, 56, 61, 67, 67, 61, 61, 89, 61, 61])"
      ]
     },
     "execution_count": 29,
     "metadata": {},
     "output_type": "execute_result"
    }
   ],
   "source": [
    "exploring_ancestors"
   ]
  },
  {
   "cell_type": "code",
   "execution_count": null,
   "metadata": {},
   "outputs": [],
   "source": [
    "aaa= []\n",
    "for agent in arch_run:\n",
    "    try: aaa.append(tree_run['id'][agent[4]])\n",
    "    except: continue"
   ]
  },
  {
   "cell_type": "code",
   "execution_count": null,
   "metadata": {},
   "outputs": [],
   "source": [
    "len(aaa)"
   ]
  },
  {
   "cell_type": "code",
   "execution_count": null,
   "metadata": {},
   "outputs": [],
   "source": [
    "arch_run.size"
   ]
  },
  {
   "cell_type": "code",
   "execution_count": null,
   "metadata": {},
   "outputs": [],
   "source": [
    "fig, axes = plt.subplots(1, len(exp_types), figsize=(len(exp_types)*10, 10))\n",
    "\n",
    "        "
   ]
  },
  {
   "cell_type": "markdown",
   "metadata": {},
   "source": [
    "## Plot lineages"
   ]
  },
  {
   "cell_type": "markdown",
   "metadata": {},
   "source": [
    "### Find BD points for lineages"
   ]
  },
  {
   "cell_type": "code",
   "execution_count": null,
   "metadata": {},
   "outputs": [],
   "source": [
    "exp_bd = {}\n",
    "for exp in exp_lineages:\n",
    "    tree_id = trees[exp][best_run[exp]]['id']\n",
    "    lineages = exp_lineages[exp]\n",
    "    bd_lineages = {}\n",
    "    for ancestor in lineages:\n",
    "        bd_lin = []\n",
    "        \n",
    "        for lineage in lineages[ancestor]:\n",
    "            bds = []\n",
    "            for agent in lineage:\n",
    "                bds.append(tree_id[agent]['bd'])\n",
    "            bd_lin.append(bds)\n",
    "        if ancestor not in bd_lineages:\n",
    "            bd_lineages[ancestor] = []\n",
    "        bd_lineages[ancestor].append(bd_lin)        \n",
    "    exp_bd[exp] = bd_lineages"
   ]
  },
  {
   "cell_type": "code",
   "execution_count": null,
   "metadata": {
    "scrolled": false
   },
   "outputs": [],
   "source": [
    "from matplotlib.patches import Rectangle\n",
    "\n",
    "\n",
    "fig, axes = plt.subplots(1, len(exp_types), figsize=(len(exp_types)*10, 10))\n",
    "\n",
    "for exp_idx, exp in enumerate(exp_types):\n",
    "    print(\"Working on exp: {}\".format(exp))\n",
    "    if env_type == 'arm':\n",
    "        goals = [Rectangle((0.2,0.2),0.05,0.05,linewidth=2,edgecolor='black',facecolor='none'),\n",
    "                 Rectangle((0.8,0.8),0.05,0.05,linewidth=2,edgecolor='black',facecolor='none'),\n",
    "                 Rectangle((0.8,0.2),0.05,0.05,linewidth=2,edgecolor='black',facecolor='none'),\n",
    "                ]\n",
    "    elif env_type == 'RW':\n",
    "        goals = [Rectangle((0.75,0.75),0.05,0.05,linewidth=2,edgecolor='black',facecolor='none'),\n",
    "                 Rectangle((-0.11,-0.11),0.01,0.01,linewidth=2,edgecolor='black',facecolor='none'),\n",
    "                 Rectangle((0.3,0.2),0.01,0.02,linewidth=2,edgecolor='black',facecolor='none'),\n",
    "                 Rectangle((-.98,0.9),0.08,0.08,linewidth=2,edgecolor='black',facecolor='none'),\n",
    "                 Rectangle((-.9,-0.9),0.05,0.05,linewidth=2,edgecolor='black',facecolor='none'),\n",
    "                 Rectangle((.5, -.6),0.1,0.1,linewidth=2,edgecolor='black',facecolor='none'),\n",
    "                 Rectangle((0, -.75),0.1,0.05,linewidth=2,edgecolor='black',facecolor='none'),                \n",
    "                 Rectangle((-.5, .7),0.05,0.05,linewidth=2,edgecolor='black',facecolor='none'),                \n",
    "                 Rectangle((-.75, -.05),0.05,0.1,linewidth=2,edgecolor='black',facecolor='none'),                                \n",
    "                ]\n",
    "    else:\n",
    "        goals = []\n",
    "        \n",
    "    points = exp_bd[exp]\n",
    "    col = plt.cm.jet(np.linspace(0, 1, len(points)))    \n",
    "\n",
    "    for lineage, c in zip(points, col):\n",
    "        for p_path in points[lineage][0]:\n",
    "            p_path = np.array(p_path)\n",
    "            axes.plot(p_path[:, 0], p_path[:, 1], color=c)\n",
    "            axes.scatter(p_path[:, 0], p_path[:, 1], color=c)\n",
    "        \n",
    "    for goal in goals:\n",
    "        axes.add_patch(goal)\n",
    "        \n",
    "    axes.set_xlabel('x')\n",
    "    axes.set_ylabel('y')\n",
    "    axes.set_xlim(grid_parameters['min_coord'][0], grid_parameters['max_coord'][0])\n",
    "    axes.set_ylim(grid_parameters['min_coord'][1], grid_parameters['max_coord'][1])"
   ]
  }
 ],
 "metadata": {
  "kernelspec": {
   "display_name": "Python 3",
   "language": "python",
   "name": "python3"
  },
  "language_info": {
   "codemirror_mode": {
    "name": "ipython",
    "version": 3
   },
   "file_extension": ".py",
   "mimetype": "text/x-python",
   "name": "python",
   "nbconvert_exporter": "python",
   "pygments_lexer": "ipython3",
   "version": "3.7.7"
  }
 },
 "nbformat": 4,
 "nbformat_minor": 4
}
